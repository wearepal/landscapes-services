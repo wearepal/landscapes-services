{
 "cells": [
  {
   "cell_type": "code",
   "execution_count": null,
   "metadata": {},
   "outputs": [],
   "source": [
    "import os\n",
    "import sys\n",
    "\n",
    "sys.path.append(os.path.join('utils'))\n",
    "\n",
    "from utils.infer import detect_segment\n",
    "from utils.vis import plot_predictions"
   ]
  },
  {
   "cell_type": "code",
   "execution_count": null,
   "metadata": {},
   "outputs": [],
   "source": [
    "!wget -q https://eoimages.gsfc.nasa.gov/images/imagerecords/57000/57752/land_shallow_topo_2048.tif"
   ]
  },
  {
   "cell_type": "code",
   "execution_count": null,
   "metadata": {},
   "outputs": [],
   "source": [
    "image_path = 'land_shallow_topo_2048.tif'\n",
    "labels = [['continent']]\n",
    "threshold = 0.1\n",
    "\n",
    "detector_id = 'google/owlv2-base-patch16'\n",
    "segmenter_id = 'facebook/sam-vit-base'"
   ]
  },
  {
   "cell_type": "code",
   "execution_count": null,
   "metadata": {},
   "outputs": [],
   "source": [
    "predictions = detect_segment(\n",
    "    image_path=image_path,\n",
    "    labels=labels,\n",
    "    threshold=threshold,\n",
    "    detector_id=detector_id,\n",
    "    segmenter_id=segmenter_id,\n",
    "    transform=False\n",
    ")"
   ]
  },
  {
   "cell_type": "code",
   "execution_count": null,
   "metadata": {},
   "outputs": [],
   "source": [
    "plot_predictions(image_path, predictions)"
   ]
  }
 ],
 "metadata": {
  "language_info": {
   "name": "python"
  }
 },
 "nbformat": 4,
 "nbformat_minor": 2
}
